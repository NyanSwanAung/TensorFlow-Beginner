{
  "nbformat": 4,
  "nbformat_minor": 0,
  "metadata": {
    "colab": {
      "name": "mini project(1) - answers.ipynb",
      "provenance": [],
      "collapsed_sections": [],
      "include_colab_link": true
    },
    "kernelspec": {
      "display_name": "Python 3",
      "language": "python",
      "name": "python3"
    },
    "language_info": {
      "codemirror_mode": {
        "name": "ipython",
        "version": 3
      },
      "file_extension": ".py",
      "mimetype": "text/x-python",
      "name": "python",
      "nbconvert_exporter": "python",
      "pygments_lexer": "ipython3",
      "version": "3.7.0"
    }
  },
  "cells": [
    {
      "cell_type": "markdown",
      "metadata": {
        "id": "view-in-github",
        "colab_type": "text"
      },
      "source": [
        "<a href=\"https://colab.research.google.com/github/NyanSwanAung/TensorFlow-Beginner/blob/main/coding-exercise/week2/part2/mini_project(1)_answers.ipynb\" target=\"_parent\"><img src=\"https://colab.research.google.com/assets/colab-badge.svg\" alt=\"Open In Colab\"/></a>"
      ]
    },
    {
      "cell_type": "markdown",
      "metadata": {
        "id": "RXXb_UeIh7pv"
      },
      "source": [
        "<figure>\n",
        "<center>\n",
        "<img src='https://raw.githubusercontent.com/alexsnowschool/TensorFlow-Beginner/main/project_img.png' width = '800px'/>\n",
        "</center>        \n",
        "</figure>"
      ]
    },
    {
      "cell_type": "markdown",
      "metadata": {
        "id": "t53jP8uAemXu"
      },
      "source": [
        "# Regression with Automatic Differentiation in TensorFlow (Mini Project)"
      ]
    },
    {
      "cell_type": "markdown",
      "metadata": {
        "id": "QGjXvUdcemXw"
      },
      "source": [
        "# Task 1: TensorFlow"
      ]
    },
    {
      "cell_type": "code",
      "metadata": {
        "id": "TtDgZK3lemXx",
        "outputId": "f1db31cc-34e0-4036-80e1-a25781bac272",
        "colab": {
          "base_uri": "https://localhost:8080/",
          "height": 32
        }
      },
      "source": [
        "import tensorflow as tf\n",
        "import numpy as np\n",
        "import matplotlib.pyplot as plt\n",
        "%matplotlib inline\n",
        "\n",
        "print('Using TensorFlow version:', tf.__version__)"
      ],
      "execution_count": null,
      "outputs": [
        {
          "output_type": "stream",
          "text": [
            "Using TensorFlow version: 2.3.0\n"
          ],
          "name": "stdout"
        }
      ]
    },
    {
      "cell_type": "markdown",
      "metadata": {
        "id": "yeJJgtrVemX1"
      },
      "source": [
        "# Task 2: Constants(immuable, read only, cannot update values)"
      ]
    },
    {
      "cell_type": "code",
      "metadata": {
        "id": "43yEzEx4emX2",
        "outputId": "a0ee3e76-3194-420b-d7d4-4e758e307ea5",
        "colab": {
          "base_uri": "https://localhost:8080/",
          "height": 34
        }
      },
      "source": [
        "tf.constant([[1, 2, 3]])"
      ],
      "execution_count": null,
      "outputs": [
        {
          "output_type": "execute_result",
          "data": {
            "text/plain": [
              "<tf.Tensor: shape=(1, 3), dtype=int32, numpy=array([[1, 2, 3]])>"
            ]
          },
          "metadata": {
            "tags": []
          },
          "execution_count": 4
        }
      ]
    },
    {
      "cell_type": "code",
      "metadata": {
        "id": "eqsbdFrgemX5",
        "outputId": "be3a9bd2-4e86-4300-8635-7da28ab3f08f",
        "colab": {
          "base_uri": "https://localhost:8080/",
          "height": 34
        }
      },
      "source": [
        "tf.convert_to_tensor([[1, 2, 3]])"
      ],
      "execution_count": null,
      "outputs": [
        {
          "output_type": "execute_result",
          "data": {
            "text/plain": [
              "<tf.Tensor: shape=(1, 3), dtype=int32, numpy=array([[1, 2, 3]])>"
            ]
          },
          "metadata": {
            "tags": []
          },
          "execution_count": 5
        }
      ]
    },
    {
      "cell_type": "code",
      "metadata": {
        "id": "_9INFP-UemX9",
        "outputId": "10b6f9c7-af32-4ea2-8411-5434480d29c4",
        "colab": {
          "base_uri": "https://localhost:8080/",
          "height": 34
        }
      },
      "source": [
        "tf.convert_to_tensor([[1, 2, 3]], dtype=tf.float32)"
      ],
      "execution_count": null,
      "outputs": [
        {
          "output_type": "execute_result",
          "data": {
            "text/plain": [
              "<tf.Tensor: shape=(1, 3), dtype=float32, numpy=array([[1., 2., 3.]], dtype=float32)>"
            ]
          },
          "metadata": {
            "tags": []
          },
          "execution_count": 6
        }
      ]
    },
    {
      "cell_type": "code",
      "metadata": {
        "id": "znTS24MZemYB",
        "outputId": "67fea087-829c-43e2-876b-c9787bbc5f33",
        "colab": {
          "base_uri": "https://localhost:8080/",
          "height": 34
        }
      },
      "source": [
        "tf.convert_to_tensor([[1, 2, 3]]).numpy() # numpy value"
      ],
      "execution_count": null,
      "outputs": [
        {
          "output_type": "execute_result",
          "data": {
            "text/plain": [
              "array([[1, 2, 3]])"
            ]
          },
          "metadata": {
            "tags": []
          },
          "execution_count": 7
        }
      ]
    },
    {
      "cell_type": "markdown",
      "metadata": {
        "id": "nJfEQ58nemYE"
      },
      "source": [
        "# Task 3: Variables(Mutable)"
      ]
    },
    {
      "cell_type": "code",
      "metadata": {
        "id": "Zll_KnvQemYF",
        "outputId": "305e1532-de5b-4a33-f696-3ca35b2dadd5",
        "colab": {
          "base_uri": "https://localhost:8080/",
          "height": 34
        }
      },
      "source": [
        "tf.Variable([[1, 2, 3]])"
      ],
      "execution_count": null,
      "outputs": [
        {
          "output_type": "execute_result",
          "data": {
            "text/plain": [
              "<tf.Variable 'Variable:0' shape=(1, 3) dtype=int32, numpy=array([[1, 2, 3]])>"
            ]
          },
          "metadata": {
            "tags": []
          },
          "execution_count": 8
        }
      ]
    },
    {
      "cell_type": "code",
      "metadata": {
        "id": "VfRgXq_ZemYI",
        "outputId": "190e9e28-90e3-42e6-94fa-ccc2ed16cd25",
        "colab": {
          "base_uri": "https://localhost:8080/",
          "height": 50
        }
      },
      "source": [
        "# unlike constants, we can add new values to varible\n",
        "v = tf.Variable(1)\n",
        "print('Init value: ', v.numpy())\n",
        "v.assign(2)\n",
        "print(\"new value: \", v.numpy())"
      ],
      "execution_count": null,
      "outputs": [
        {
          "output_type": "stream",
          "text": [
            "Init value:  1\n",
            "new value:  2\n"
          ],
          "name": "stdout"
        }
      ]
    },
    {
      "cell_type": "code",
      "metadata": {
        "id": "UnVY2yTMemYM",
        "outputId": "3f34b623-66ff-44b1-f9f2-48d47cfcb4b2",
        "colab": {
          "base_uri": "https://localhost:8080/",
          "height": 67
        }
      },
      "source": [
        "# Multiplication \n",
        "c = tf.convert_to_tensor(np.random.randn(2, 3))\n",
        "v = tf.Variable(np.random.randn(3, 1))\n",
        "print(tf.matmul(c, v))"
      ],
      "execution_count": null,
      "outputs": [
        {
          "output_type": "stream",
          "text": [
            "tf.Tensor(\n",
            "[[ 0.15011085]\n",
            " [-0.99116384]], shape=(2, 1), dtype=float64)\n"
          ],
          "name": "stdout"
        }
      ]
    },
    {
      "cell_type": "markdown",
      "metadata": {
        "id": "hR11kOzpemYT"
      },
      "source": [
        "# Task 4: Automatic Differentiation\n",
        "\n",
        "Let's take a simple equation as an example:\n",
        "\\begin{equation}\n",
        "y = x^3 ; \\frac{dy}{dx} = 3x^2\n",
        "\\end{equation}"
      ]
    },
    {
      "cell_type": "code",
      "metadata": {
        "id": "k5ajy3b8emYT",
        "outputId": "13ecf1cb-72cb-4245-cb32-bad147bab6dd",
        "colab": {
          "base_uri": "https://localhost:8080/",
          "height": 34
        }
      },
      "source": [
        "# to do automatic differetiation, we need to keep track of this variable\n",
        "x = tf.Variable(3.0)\n",
        "\n",
        "# compute y within the context of gradient tape\n",
        "with tf.GradientTape() as tape:\n",
        "    y = x ** 3\n",
        "    \n",
        "dy_dx = tape.gradient(y, x)\n",
        "print('gradient at x={} is {}'.format(x.numpy(), dy_dx.numpy()))"
      ],
      "execution_count": null,
      "outputs": [
        {
          "output_type": "stream",
          "text": [
            "gradient at x=3.0 is 27.0\n"
          ],
          "name": "stdout"
        }
      ]
    },
    {
      "cell_type": "markdown",
      "metadata": {
        "id": "67wEMiJ6emYW"
      },
      "source": [
        "What about higher order gradients?\n",
        "\n",
        "\\begin{equation}\n",
        "y = x^3 ; \\frac{dy}{dx} = 3x^2 ; \\frac{d^2 y}{dx^2} = 6x\n",
        "\\end{equation}"
      ]
    },
    {
      "cell_type": "code",
      "metadata": {
        "id": "4Z_D-hQvemYX",
        "outputId": "da0b327e-9188-4f0d-9b65-1dc1f91c43d4",
        "colab": {
          "base_uri": "https://localhost:8080/",
          "height": 34
        }
      },
      "source": [
        "# to do automatic differetiation, we need to keep track of this variable\n",
        "x = tf.Variable(3.0)\n",
        "\n",
        "# compute y within the context of gradient tape\n",
        "with tf.GradientTape() as t1:\n",
        "    with tf.GradientTape() as t2:\n",
        "        y = x ** 3\n",
        "    dy_dx = t2.gradient(y, x)\n",
        "d2y_dx2 = t1.gradient(dy_dx, x)\n",
        "\n",
        "print('2nd order of gradient at x={} is {}'.format(x.numpy(), d2y_dx2.numpy()))"
      ],
      "execution_count": null,
      "outputs": [
        {
          "output_type": "stream",
          "text": [
            "2nd order of gradient at x=3.0 is 18.0\n"
          ],
          "name": "stdout"
        }
      ]
    },
    {
      "cell_type": "markdown",
      "metadata": {
        "id": "-Ykx-BgPemYa"
      },
      "source": [
        "# Task 5: Watching Tensors"
      ]
    },
    {
      "cell_type": "code",
      "metadata": {
        "id": "AgzqdgOQemYb",
        "outputId": "fdb0d7dd-be89-4728-ddb4-53e8840b77da",
        "colab": {
          "base_uri": "https://localhost:8080/",
          "height": 34
        }
      },
      "source": [
        "# to do automatic differetiation, we need to keep track of this variable\n",
        "x = tf.constant(3.0)\n",
        "\n",
        "# compute y within the context of gradient tape\n",
        "with tf.GradientTape() as tape:\n",
        "    y = x **3\n",
        "    \n",
        "dy_dx = tape.gradient(y, x)\n",
        "print('gradient at x={} is {}'.format(x.numpy(), dy_dx))"
      ],
      "execution_count": null,
      "outputs": [
        {
          "output_type": "stream",
          "text": [
            "gradient at x=3.0 is None\n"
          ],
          "name": "stdout"
        }
      ]
    },
    {
      "cell_type": "code",
      "metadata": {
        "id": "8DGTAUq0emYe",
        "outputId": "da63085c-19de-4581-a630-0948c9ac2c3d",
        "colab": {
          "base_uri": "https://localhost:8080/",
          "height": 34
        }
      },
      "source": [
        "# to do automatic differetiation, we need to keep track of this variable\n",
        "x = tf.constant(3.0)\n",
        "\n",
        "# compute y within the context of gradient tape\n",
        "with tf.GradientTape() as tape:\n",
        "    tape.watch(x)\n",
        "    y = x **3\n",
        "    \n",
        "dy_dx = tape.gradient(y, x)\n",
        "print('gradient at x={} is {}'.format(x.numpy(), dy_dx.numpy()))"
      ],
      "execution_count": null,
      "outputs": [
        {
          "output_type": "stream",
          "text": [
            "gradient at x=3.0 is 27.0\n"
          ],
          "name": "stdout"
        }
      ]
    },
    {
      "cell_type": "markdown",
      "metadata": {
        "id": "P5NGaCbOemYn"
      },
      "source": [
        "# Task 6: Persistent Tape\n",
        "\n",
        "\\begin{equation}\n",
        "y = x^3 ; z = 2y ; \\frac{dz}{dx} = \\frac{dz}{dy} . \\frac{dy}{dx} (Chain Rule)\n",
        "\\end{equation}"
      ]
    },
    {
      "cell_type": "code",
      "metadata": {
        "id": "8wwmyGAnemYo",
        "outputId": "9e5eab25-2819-421f-9431-8cc8db00e4e8",
        "colab": {
          "base_uri": "https://localhost:8080/",
          "height": 65
        }
      },
      "source": [
        "x = tf.Variable(3.0)\n",
        "\n",
        "#with tf.GradientTape() as tape:\n",
        "with tf.GradientTape(persistent=True) as tape: # can use tape.gradient multiple times\n",
        "    y = x ** 3\n",
        "    z = 2 * y\n",
        "\n",
        "dz_dy = tape.gradient(z, y)\n",
        "dy_dx = tape.gradient(y, x)\n",
        "dz_dx = tape.gradient(z, x)\n",
        "\n",
        "del tape\n",
        "\n",
        "print('dz_dy: ', dz_dy.numpy()) # can only call tape.gradient only once\n",
        "print('dy_dx: ', dy_dx.numpy())\n",
        "print('dz_dx: ', dz_dx.numpy())\n"
      ],
      "execution_count": null,
      "outputs": [
        {
          "output_type": "stream",
          "text": [
            "dz_dy:  2.0\n",
            "dy_dx:  27.0\n",
            "dz_dx:  54.0\n"
          ],
          "name": "stdout"
        }
      ]
    },
    {
      "cell_type": "markdown",
      "metadata": {
        "id": "V4Wv58PLemYr"
      },
      "source": [
        "# Task 7: Generating Data for Linear Regression\n",
        "\n",
        "Solve a simple linear equation:\n",
        "\n",
        "\\begin{equation}\n",
        "y = wx + b\n",
        "\\end{equation}"
      ]
    },
    {
      "cell_type": "code",
      "metadata": {
        "id": "NzZ_gt4uemYs"
      },
      "source": [
        "true_w, true_b = 7., 4.  # best fit value for wx + b\n",
        "\n",
        "def create_batch(batch_size=64):\n",
        "    x = np.random.randn(batch_size, 1)\n",
        "    y = np.random.randn(batch_size, 1) + true_w * x + true_b # added noise for challenging, random noise\n",
        "    return x, y\n",
        "    "
      ],
      "execution_count": null,
      "outputs": []
    },
    {
      "cell_type": "code",
      "metadata": {
        "id": "-QTC3ZZidCrw",
        "cellView": "both"
      },
      "source": [
        "x = np.random.randn(64, 1)\n",
        "x"
      ],
      "execution_count": null,
      "outputs": []
    },
    {
      "cell_type": "code",
      "metadata": {
        "id": "LWpHL9aPemYv",
        "outputId": "89de06dd-7e70-40f1-bc5b-f25bf66062f3",
        "colab": {
          "base_uri": "https://localhost:8080/",
          "height": 265
        }
      },
      "source": [
        "x, y = create_batch()\n",
        "plt.plot(x, y, '.')"
      ],
      "execution_count": null,
      "outputs": [
        {
          "output_type": "execute_result",
          "data": {
            "text/plain": [
              "[<matplotlib.lines.Line2D at 0x1435aabf278>]"
            ]
          },
          "metadata": {
            "tags": []
          },
          "execution_count": 23
        },
        {
          "output_type": "display_data",
          "data": {
            "image/png": "[encoded data removed]",
            "text/plain": [
              "<Figure size 432x288 with 1 Axes>"
            ]
          },
          "metadata": {
            "tags": [],
            "needs_background": "light"
          }
        }
      ]
    },
    {
      "cell_type": "markdown",
      "metadata": {
        "id": "K-Vvh95gfifF"
      },
      "source": [
        "# Task 8: Linear Regression"
      ]
    },
    {
      "cell_type": "code",
      "metadata": {
        "id": "crsFa20DfgmQ",
        "scrolled": true,
        "outputId": "609e2882-7c1f-40fe-877e-d5896b99c2ab",
        "colab": {
          "base_uri": "https://localhost:8080/",
          "height": 185
        }
      },
      "source": [
        "iterations = 100 # gradient steps of algorithm \n",
        "lr = 0.03\n",
        "\n",
        "w_history = []\n",
        "b_history = []\n",
        "\n",
        "w = tf.Variable(10.0)\n",
        "b = tf.Variable(1.0)\n",
        "\n",
        "for i in range (0, iterations):\n",
        "    x_batch, y_batch = create_batch()\n",
        "    x_batch = tf.convert_to_tensor(x_batch, dtype=tf.float32)\n",
        "    y_batch = tf.convert_to_tensor(y_batch, dtype=tf.float32) # finding y' value (new value), \n",
        "    \n",
        "    with tf.GradientTape(persistent=True) as tape:\n",
        "        y = w * x_batch + b # y original value\n",
        "        loss = tf.reduce_mean(tf.square(y-y_batch)) # finding MSE, difference between predicted value and ground truth, formula = y - y'\n",
        "\n",
        "    dw = tape.gradient(loss, w) # dloss_dw   \n",
        "    db = tape.gradient(loss, b) #dloss_db\n",
        "    \n",
        "    del tape\n",
        "    w.assign_sub(lr * dw) # substract the value of lr * dw from w and assign to w (w:= w - dw * lr)\n",
        "    b.assign_sub(lr * db) # (w:= w - db * lr)\n",
        "    \n",
        "    w_history.append(w.numpy())\n",
        "    b_history.append(b.numpy())\n",
        "    \n",
        "    if i % 10 == 0:\n",
        "        print('Iter {}, W={}, b={}'.format(i, w.numpy(), b.numpy()))\n",
        "    \n",
        "    \n",
        "    "
      ],
      "execution_count": null,
      "outputs": [
        {
          "output_type": "stream",
          "text": [
            "Iter 0, W=9.823647499084473, b=1.1536812782287598\n",
            "Iter 10, W=8.599135398864746, b=2.432640314102173\n",
            "Iter 20, W=7.931622505187988, b=3.1415154933929443\n",
            "Iter 30, W=7.4653191566467285, b=3.553311586380005\n",
            "Iter 40, W=7.256165981292725, b=3.7570266723632812\n",
            "Iter 50, W=7.132327079772949, b=3.89072847366333\n",
            "Iter 60, W=7.07118558883667, b=3.949157238006592\n",
            "Iter 70, W=7.039575099945068, b=3.9779489040374756\n",
            "Iter 80, W=6.9923834800720215, b=3.985065460205078\n",
            "Iter 90, W=6.984748363494873, b=4.0071258544921875\n"
          ],
          "name": "stdout"
        }
      ]
    },
    {
      "cell_type": "code",
      "metadata": {
        "id": "n7-ke23kf5rh",
        "outputId": "ea2aa04b-2356-4e28-f915-9d7b74e237b3",
        "colab": {
          "base_uri": "https://localhost:8080/",
          "height": 388
        }
      },
      "source": [
        "plt.plot(range(iterations), w_history, label='Learned w')\n",
        "plt.plot(range(iterations), b_history, label='Learned b')\n",
        "plt.plot(range(iterations), [true_w] * iterations, label='True w')\n",
        "plt.plot(range(iterations), [true_b] * iterations, label='True b')\n",
        "plt.legend()\n",
        "plt.show()"
      ],
      "execution_count": null,
      "outputs": [
        {
          "output_type": "display_data",
          "data": {
            "image/png": "[encoded data removed]",
            "text/plain": [
              "<Figure size 432x288 with 1 Axes>"
            ]
          },
          "metadata": {
            "tags": [],
            "needs_background": "light"
          }
        }
      ]
    }
  ]
}