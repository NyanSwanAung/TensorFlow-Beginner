{
  "nbformat": 4,
  "nbformat_minor": 0,
  "metadata": {
    "colab": {
      "name": "Augmentation.ipynb",
      "provenance": [],
      "collapsed_sections": [
        "PhLkFlLy66Tn",
        "px4JgamaB-Fq",
        "_UYmABJv9CJ7",
        "rfwRLsuN9KpE",
        "GYgSkSif9SZq",
        "gUaeE0Mp9bkH"
      ],
      "include_colab_link": true
    },
    "kernelspec": {
      "name": "python3",
      "display_name": "Python 3"
    },
    "accelerator": "GPU"
  },
  "cells": [
    {
      "cell_type": "markdown",
      "metadata": {
        "id": "view-in-github",
        "colab_type": "text"
      },
      "source": [
        "<a href=\"https://colab.research.google.com/github/yanpaing-DL/TensorFlow-Beginner/blob/main/coding-exercise/week4/part2/Augmentation.ipynb\" target=\"_parent\"><img src=\"https://colab.research.google.com/assets/colab-badge.svg\" alt=\"Open In Colab\"/></a>"
      ]
    },
    {
      "cell_type": "markdown",
      "metadata": {
        "id": "PhLkFlLy66Tn"
      },
      "source": [
        "# Loading dataset and make a directory"
      ]
    },
    {
      "cell_type": "code",
      "metadata": {
        "id": "R9POLi3FAn7o"
      },
      "source": [
        "# Downloading dataset\n",
        "\n",
        "!wget --no-check-certificate \\\n",
        "    https://storage.googleapis.com/laurencemoroney-blog.appspot.com/horse-or-human.zip \\\n",
        "    -O /tmp/horse-or-human.zip\n",
        "\n",
        "!wget --no-check-certificate \\\n",
        "    https://storage.googleapis.com/laurencemoroney-blog.appspot.com/validation-horse-or-human.zip \\\n",
        "    -O /tmp/validation-horse-or-human.zip"
      ],
      "execution_count": null,
      "outputs": []
    },
    {
      "cell_type": "code",
      "metadata": {
        "id": "usfHyYjwBtRX"
      },
      "source": [
        "# Unzipping zip file and extract\n",
        "\n",
        "import os\n",
        "import zipfile\n",
        "\n",
        "local_zip = '/tmp/horse-or-human.zip'  #  create a directory\n",
        "zip_ref = zipfile.ZipFile(local_zip, 'r')    #  read zipfile\n",
        "zip_ref.extractall('/tmp/horse-or-human')  # extract all data from zipfile\n",
        "\n",
        "local_zip = '/tmp/validation-horse-or-human.zip'   #  create a directory\n",
        "zip_ref = zipfile.ZipFile(local_zip, 'r')   #  read zipfile\n",
        "zip_ref.extractall('/tmp/validation-horse-or-human')    # extract all data from zipfile\n",
        "zip_ref.close()\n"
      ],
      "execution_count": null,
      "outputs": []
    },
    {
      "cell_type": "code",
      "metadata": {
        "id": "Uof22I6vJE87",
        "outputId": "f4be2467-c967-492e-d8fb-44fbf98ab594",
        "colab": {
          "base_uri": "https://localhost:8080/",
          "height": 391
        }
      },
      "source": [
        "# join path with os module\n",
        "\n",
        "train_horse_dir = os.path.join('/tmp/horse-or-human/horses')\n",
        "\n",
        "train_human_dir = os.path.join('/tmp/horse-or-human/humans')  \n",
        "\n",
        "validation_horse_dir = os.path.join('/tmp/validation-horse-or-human/horses')  \n",
        "\n",
        "validation_human_dir = os.path.join('/tmp/validation-horse-or-human/humans')"
      ],
      "execution_count": null,
      "outputs": [
        {
          "output_type": "stream",
          "text": [
            "--2020-10-25 00:49:01--  https://storage.googleapis.com/laurencemoroney-blog.appspot.com/horse-or-human.zip\n",
            "Resolving storage.googleapis.com (storage.googleapis.com)... 74.125.20.128, 74.125.197.128, 74.125.135.128, ...\n",
            "Connecting to storage.googleapis.com (storage.googleapis.com)|74.125.20.128|:443... connected.\n",
            "HTTP request sent, awaiting response... 200 OK\n",
            "Length: 149574867 (143M) [application/zip]\n",
            "Saving to: ‘/tmp/horse-or-human.zip’\n",
            "\n",
            "/tmp/horse-or-human 100%[===================>] 142.65M   126MB/s    in 1.1s    \n",
            "\n",
            "2020-10-25 00:49:02 (126 MB/s) - ‘/tmp/horse-or-human.zip’ saved [149574867/149574867]\n",
            "\n",
            "--2020-10-25 00:49:03--  https://storage.googleapis.com/laurencemoroney-blog.appspot.com/validation-horse-or-human.zip\n",
            "Resolving storage.googleapis.com (storage.googleapis.com)... 74.125.197.128, 74.125.195.128, 74.125.142.128, ...\n",
            "Connecting to storage.googleapis.com (storage.googleapis.com)|74.125.197.128|:443... connected.\n",
            "HTTP request sent, awaiting response... 200 OK\n",
            "Length: 11480187 (11M) [application/zip]\n",
            "Saving to: ‘/tmp/validation-horse-or-human.zip’\n",
            "\n",
            "/tmp/validation-hor 100%[===================>]  10.95M  46.5MB/s    in 0.2s    \n",
            "\n",
            "2020-10-25 00:49:03 (46.5 MB/s) - ‘/tmp/validation-horse-or-human.zip’ saved [11480187/11480187]\n",
            "\n"
          ],
          "name": "stdout"
        }
      ]
    },
    {
      "cell_type": "markdown",
      "metadata": {
        "id": "px4JgamaB-Fq"
      },
      "source": [
        "# Build Model"
      ]
    },
    {
      "cell_type": "code",
      "metadata": {
        "id": "qmciCo3ONy-Q"
      },
      "source": [
        "import tensorflow as tf\n",
        "model = tf.keras.models.Sequential([\n",
        "    # Note the input shape is the desired size of the image 300x300 with 3 bytes color\n",
        "    # This is the first convolution\n",
        "\n",
        "    tf.keras.layers.Conv2D(16, (3,3), activation='relu', input_shape=(300, 300, 3)),\n",
        "    tf.keras.layers.MaxPooling2D(2, 2),\n",
        "\n",
        "    # The second convolution\n",
        "    tf.keras.layers.Conv2D(32, (3,3), activation='relu'),\n",
        "    tf.keras.layers.MaxPooling2D(2,2),\n",
        "\n",
        "    # The third convolution\n",
        "    tf.keras.layers.Conv2D(64, (3,3), activation='relu'),\n",
        "    tf.keras.layers.MaxPooling2D(2,2),\n",
        "\n",
        "    # The fourth convolution\n",
        "    tf.keras.layers.Conv2D(64, (3,3), activation='relu'),\n",
        "    tf.keras.layers.MaxPooling2D(2,2),\n",
        "\n",
        "    # The fifth convolution\n",
        "    tf.keras.layers.Conv2D(64, (3,3), activation='relu'),\n",
        "    tf.keras.layers.MaxPooling2D(2,2),\n",
        "\n",
        "    # Flatten the results to feed into a DNN\n",
        "    tf.keras.layers.Flatten(),\n",
        "\n",
        "    # 512 neuron hidden layer\n",
        "    tf.keras.layers.Dense(512, activation='relu'),\n",
        "\n",
        "    # Only 1 output neuron. It will contain a value from 0-1 where 0 for 1 class ('horses') and 1 for the other ('humans')\n",
        "    tf.keras.layers.Dense(1, activation='sigmoid')\n",
        "])"
      ],
      "execution_count": null,
      "outputs": []
    },
    {
      "cell_type": "markdown",
      "metadata": {
        "id": "_UYmABJv9CJ7"
      },
      "source": [
        "# Optimization"
      ]
    },
    {
      "cell_type": "code",
      "metadata": {
        "id": "moeO4Y-IN5rH"
      },
      "source": [
        "from tensorflow.keras.optimizers import RMSprop\n",
        "\n",
        "model.compile(loss='binary_crossentropy',\n",
        "              optimizer=RMSprop(lr=1e-4),\n",
        "              metrics=['accuracy'])"
      ],
      "execution_count": null,
      "outputs": []
    },
    {
      "cell_type": "markdown",
      "metadata": {
        "id": "rfwRLsuN9KpE"
      },
      "source": [
        "# Data preprocessing with ImageDataGenerator"
      ]
    },
    {
      "cell_type": "code",
      "metadata": {
        "id": "o08RVXGzOE2C",
        "outputId": "a6775eff-80fe-411a-eff2-52db71c9b674",
        "colab": {
          "base_uri": "https://localhost:8080/",
          "height": 51
        }
      },
      "source": [
        "from tensorflow.keras.preprocessing.image import ImageDataGenerator\n",
        "\n",
        "# All images will be rescaled by 1./255\n",
        "train_datagen = ImageDataGenerator(\n",
        "      rescale=1./255,\n",
        "      rotation_range=40,\n",
        "      width_shift_range=0.2,\n",
        "      height_shift_range=0.2,\n",
        "      shear_range=0.2,\n",
        "      zoom_range=0.2,\n",
        "      horizontal_flip=True,\n",
        "      fill_mode='nearest')\n",
        "\n",
        "validation_datagen = ImageDataGenerator(rescale=1/255)\n",
        "\n",
        "# Flow training images in batches of 128 using train_datagen generator\n",
        "train_generator = train_datagen.flow_from_directory(\n",
        "        '/tmp/horse-or-human/',  # This is the source directory for training images\n",
        "        target_size=(300, 300),  # All images will be resized to 150x150\n",
        "        batch_size=128,\n",
        "        # Since we use binary_crossentropy loss, we need binary labels\n",
        "        class_mode='binary')\n",
        "\n",
        "# Flow training images in batches of 128 using train_datagen generator\n",
        "validation_generator = validation_datagen.flow_from_directory(\n",
        "        '/tmp/validation-horse-or-human/',  # This is the source directory for training images\n",
        "        target_size=(300, 300),  # All images will be resized to 150x150\n",
        "        batch_size=32,\n",
        "        # Since we use binary_crossentropy loss, we need binary labels\n",
        "        class_mode='binary')"
      ],
      "execution_count": null,
      "outputs": [
        {
          "output_type": "stream",
          "text": [
            "Found 1027 images belonging to 2 classes.\n",
            "Found 256 images belonging to 2 classes.\n"
          ],
          "name": "stdout"
        }
      ]
    },
    {
      "cell_type": "markdown",
      "metadata": {
        "id": "GYgSkSif9SZq"
      },
      "source": [
        "# Model training"
      ]
    },
    {
      "cell_type": "code",
      "metadata": {
        "id": "NTMQkxuyOJVe",
        "outputId": "2c8a34e7-8237-43a5-d90f-bb9b71c13410",
        "colab": {
          "base_uri": "https://localhost:8080/",
          "height": 1000
        }
      },
      "source": [
        "history = model.fit(\n",
        "      train_generator,\n",
        "      steps_per_epoch=8,  \n",
        "      epochs=100,\n",
        "      verbose=1,\n",
        "      validation_data = validation_generator,\n",
        "      validation_steps=8)"
      ],
      "execution_count": null,
      "outputs": [
        {
          "output_type": "stream",
          "text": [
            "Epoch 1/100\n",
            "8/8 [==============================] - 16s 2s/step - loss: 0.6860 - accuracy: 0.5662 - val_loss: 0.6534 - val_accuracy: 0.8906\n",
            "Epoch 2/100\n",
            "8/8 [==============================] - 18s 2s/step - loss: 0.6664 - accuracy: 0.6285 - val_loss: 0.6276 - val_accuracy: 0.5508\n",
            "Epoch 3/100\n",
            "8/8 [==============================] - 18s 2s/step - loss: 0.6471 - accuracy: 0.6618 - val_loss: 0.5899 - val_accuracy: 0.6602\n",
            "Epoch 4/100\n",
            "8/8 [==============================] - 18s 2s/step - loss: 0.6222 - accuracy: 0.7164 - val_loss: 0.5496 - val_accuracy: 0.7148\n",
            "Epoch 5/100\n",
            "8/8 [==============================] - 21s 3s/step - loss: 0.5933 - accuracy: 0.6992 - val_loss: 0.5644 - val_accuracy: 0.6367\n",
            "Epoch 6/100\n",
            "8/8 [==============================] - 18s 2s/step - loss: 0.5787 - accuracy: 0.7086 - val_loss: 0.4610 - val_accuracy: 0.7969\n",
            "Epoch 7/100\n",
            "8/8 [==============================] - 18s 2s/step - loss: 0.5565 - accuracy: 0.7241 - val_loss: 0.5647 - val_accuracy: 0.6719\n",
            "Epoch 8/100\n",
            "8/8 [==============================] - 18s 2s/step - loss: 0.5138 - accuracy: 0.7430 - val_loss: 1.4193 - val_accuracy: 0.5000\n",
            "Epoch 9/100\n",
            "8/8 [==============================] - 18s 2s/step - loss: 0.5213 - accuracy: 0.7397 - val_loss: 0.5959 - val_accuracy: 0.6953\n",
            "Epoch 10/100\n",
            "8/8 [==============================] - 18s 2s/step - loss: 0.4910 - accuracy: 0.7597 - val_loss: 0.6603 - val_accuracy: 0.7031\n",
            "Epoch 11/100\n",
            "8/8 [==============================] - 21s 3s/step - loss: 0.4988 - accuracy: 0.7608 - val_loss: 0.9061 - val_accuracy: 0.6250\n",
            "Epoch 12/100\n",
            "8/8 [==============================] - 20s 3s/step - loss: 0.4508 - accuracy: 0.7891 - val_loss: 0.8574 - val_accuracy: 0.6484\n",
            "Epoch 13/100\n",
            "8/8 [==============================] - 18s 2s/step - loss: 0.4934 - accuracy: 0.7608 - val_loss: 0.8885 - val_accuracy: 0.6484\n",
            "Epoch 14/100\n",
            "8/8 [==============================] - 18s 2s/step - loss: 0.4982 - accuracy: 0.7419 - val_loss: 1.0280 - val_accuracy: 0.5938\n",
            "Epoch 15/100\n",
            "8/8 [==============================] - 18s 2s/step - loss: 0.4092 - accuracy: 0.8309 - val_loss: 0.8233 - val_accuracy: 0.6836\n",
            "Epoch 16/100\n",
            "8/8 [==============================] - 18s 2s/step - loss: 0.4540 - accuracy: 0.7831 - val_loss: 0.7191 - val_accuracy: 0.7344\n",
            "Epoch 17/100\n",
            "8/8 [==============================] - 18s 2s/step - loss: 0.5046 - accuracy: 0.7519 - val_loss: 0.8620 - val_accuracy: 0.6719\n",
            "Epoch 18/100\n",
            "8/8 [==============================] - 20s 3s/step - loss: 0.4225 - accuracy: 0.8115 - val_loss: 0.9758 - val_accuracy: 0.6641\n",
            "Epoch 19/100\n",
            "8/8 [==============================] - 21s 3s/step - loss: 0.4504 - accuracy: 0.7920 - val_loss: 0.9418 - val_accuracy: 0.6602\n",
            "Epoch 20/100\n",
            "8/8 [==============================] - 18s 2s/step - loss: 0.4250 - accuracy: 0.8142 - val_loss: 1.0284 - val_accuracy: 0.6562\n",
            "Epoch 21/100\n",
            "8/8 [==============================] - 18s 2s/step - loss: 0.3969 - accuracy: 0.8176 - val_loss: 1.9910 - val_accuracy: 0.5234\n",
            "Epoch 22/100\n",
            "8/8 [==============================] - 18s 2s/step - loss: 0.4279 - accuracy: 0.7987 - val_loss: 0.7458 - val_accuracy: 0.7461\n",
            "Epoch 23/100\n",
            "8/8 [==============================] - 18s 2s/step - loss: 0.4143 - accuracy: 0.8020 - val_loss: 1.2014 - val_accuracy: 0.6523\n",
            "Epoch 24/100\n",
            "8/8 [==============================] - 18s 2s/step - loss: 0.3922 - accuracy: 0.8176 - val_loss: 1.4101 - val_accuracy: 0.5977\n",
            "Epoch 25/100\n",
            "8/8 [==============================] - 20s 3s/step - loss: 0.3901 - accuracy: 0.8125 - val_loss: 1.1223 - val_accuracy: 0.6484\n",
            "Epoch 26/100\n",
            "8/8 [==============================] - 18s 2s/step - loss: 0.4081 - accuracy: 0.8254 - val_loss: 1.5465 - val_accuracy: 0.5820\n",
            "Epoch 27/100\n",
            "8/8 [==============================] - 18s 2s/step - loss: 0.3654 - accuracy: 0.8398 - val_loss: 1.1809 - val_accuracy: 0.6758\n",
            "Epoch 28/100\n",
            "8/8 [==============================] - 18s 2s/step - loss: 0.4163 - accuracy: 0.8109 - val_loss: 1.0778 - val_accuracy: 0.6797\n",
            "Epoch 29/100\n",
            "8/8 [==============================] - 18s 2s/step - loss: 0.3463 - accuracy: 0.8576 - val_loss: 1.6073 - val_accuracy: 0.6016\n",
            "Epoch 30/100\n",
            "8/8 [==============================] - 18s 2s/step - loss: 0.4197 - accuracy: 0.8187 - val_loss: 1.0914 - val_accuracy: 0.6758\n",
            "Epoch 31/100\n",
            "8/8 [==============================] - 18s 2s/step - loss: 0.3399 - accuracy: 0.8554 - val_loss: 1.3951 - val_accuracy: 0.6289\n",
            "Epoch 32/100\n",
            "8/8 [==============================] - 18s 2s/step - loss: 0.3180 - accuracy: 0.8587 - val_loss: 1.3578 - val_accuracy: 0.6719\n",
            "Epoch 33/100\n",
            "8/8 [==============================] - 21s 3s/step - loss: 0.3020 - accuracy: 0.8732 - val_loss: 1.5395 - val_accuracy: 0.6406\n",
            "Epoch 34/100\n",
            "8/8 [==============================] - 21s 3s/step - loss: 0.3753 - accuracy: 0.8387 - val_loss: 1.3465 - val_accuracy: 0.6836\n",
            "Epoch 35/100\n",
            "8/8 [==============================] - 18s 2s/step - loss: 0.3538 - accuracy: 0.8298 - val_loss: 1.6008 - val_accuracy: 0.5859\n",
            "Epoch 36/100\n",
            "8/8 [==============================] - 18s 2s/step - loss: 0.3127 - accuracy: 0.8587 - val_loss: 1.6220 - val_accuracy: 0.6406\n",
            "Epoch 37/100\n",
            "8/8 [==============================] - 18s 2s/step - loss: 0.3155 - accuracy: 0.8587 - val_loss: 1.4673 - val_accuracy: 0.6602\n",
            "Epoch 38/100\n",
            "8/8 [==============================] - 18s 2s/step - loss: 0.3124 - accuracy: 0.8721 - val_loss: 1.2586 - val_accuracy: 0.6836\n",
            "Epoch 39/100\n",
            "8/8 [==============================] - 21s 3s/step - loss: 0.3216 - accuracy: 0.8598 - val_loss: 1.9237 - val_accuracy: 0.5820\n",
            "Epoch 40/100\n",
            "8/8 [==============================] - 18s 2s/step - loss: 0.3633 - accuracy: 0.8521 - val_loss: 2.3679 - val_accuracy: 0.5273\n",
            "Epoch 41/100\n",
            "8/8 [==============================] - 18s 2s/step - loss: 0.2705 - accuracy: 0.8910 - val_loss: 1.6388 - val_accuracy: 0.6328\n",
            "Epoch 42/100\n",
            "8/8 [==============================] - 18s 2s/step - loss: 0.3170 - accuracy: 0.8643 - val_loss: 1.9886 - val_accuracy: 0.5859\n",
            "Epoch 43/100\n",
            "8/8 [==============================] - 18s 2s/step - loss: 0.3298 - accuracy: 0.8543 - val_loss: 1.5991 - val_accuracy: 0.6641\n",
            "Epoch 44/100\n",
            "8/8 [==============================] - 18s 2s/step - loss: 0.3065 - accuracy: 0.8632 - val_loss: 2.1699 - val_accuracy: 0.5938\n",
            "Epoch 45/100\n",
            "8/8 [==============================] - 18s 2s/step - loss: 0.3011 - accuracy: 0.8610 - val_loss: 2.0857 - val_accuracy: 0.5781\n",
            "Epoch 46/100\n",
            "8/8 [==============================] - 18s 2s/step - loss: 0.2465 - accuracy: 0.9043 - val_loss: 1.7262 - val_accuracy: 0.6758\n",
            "Epoch 47/100\n",
            "8/8 [==============================] - 20s 3s/step - loss: 0.2902 - accuracy: 0.8740 - val_loss: 1.6514 - val_accuracy: 0.6602\n",
            "Epoch 48/100\n",
            "8/8 [==============================] - 18s 2s/step - loss: 0.3154 - accuracy: 0.8521 - val_loss: 2.8058 - val_accuracy: 0.5547\n",
            "Epoch 49/100\n",
            "8/8 [==============================] - 18s 2s/step - loss: 0.2870 - accuracy: 0.8832 - val_loss: 1.7662 - val_accuracy: 0.6250\n",
            "Epoch 50/100\n",
            "8/8 [==============================] - 18s 2s/step - loss: 0.2637 - accuracy: 0.8888 - val_loss: 1.7639 - val_accuracy: 0.6328\n",
            "Epoch 51/100\n",
            "8/8 [==============================] - 18s 2s/step - loss: 0.2400 - accuracy: 0.9032 - val_loss: 1.8606 - val_accuracy: 0.6328\n",
            "Epoch 52/100\n",
            "8/8 [==============================] - 18s 2s/step - loss: 0.2760 - accuracy: 0.8888 - val_loss: 1.9298 - val_accuracy: 0.6133\n",
            "Epoch 53/100\n",
            "8/8 [==============================] - 18s 2s/step - loss: 0.2761 - accuracy: 0.8932 - val_loss: 1.7960 - val_accuracy: 0.6250\n",
            "Epoch 54/100\n",
            "8/8 [==============================] - 20s 3s/step - loss: 0.2173 - accuracy: 0.9170 - val_loss: 2.1416 - val_accuracy: 0.6055\n",
            "Epoch 55/100\n",
            "8/8 [==============================] - 21s 3s/step - loss: 0.2449 - accuracy: 0.9099 - val_loss: 3.5555 - val_accuracy: 0.5078\n",
            "Epoch 56/100\n",
            "8/8 [==============================] - 18s 2s/step - loss: 0.2906 - accuracy: 0.8843 - val_loss: 1.6991 - val_accuracy: 0.6484\n",
            "Epoch 57/100\n",
            "8/8 [==============================] - 20s 3s/step - loss: 0.2182 - accuracy: 0.9141 - val_loss: 2.2289 - val_accuracy: 0.6133\n",
            "Epoch 58/100\n",
            "8/8 [==============================] - 18s 2s/step - loss: 0.2279 - accuracy: 0.9055 - val_loss: 2.2533 - val_accuracy: 0.6250\n",
            "Epoch 59/100\n",
            "8/8 [==============================] - 18s 2s/step - loss: 0.2709 - accuracy: 0.8821 - val_loss: 1.9800 - val_accuracy: 0.6328\n",
            "Epoch 60/100\n",
            "8/8 [==============================] - 18s 2s/step - loss: 0.2186 - accuracy: 0.9132 - val_loss: 2.3774 - val_accuracy: 0.6094\n",
            "Epoch 61/100\n",
            "8/8 [==============================] - 18s 2s/step - loss: 0.2723 - accuracy: 0.8932 - val_loss: 2.0220 - val_accuracy: 0.6328\n",
            "Epoch 62/100\n",
            "8/8 [==============================] - 18s 2s/step - loss: 0.2039 - accuracy: 0.9299 - val_loss: 2.1226 - val_accuracy: 0.6328\n",
            "Epoch 63/100\n",
            "8/8 [==============================] - 18s 2s/step - loss: 0.1675 - accuracy: 0.9433 - val_loss: 1.9289 - val_accuracy: 0.6758\n",
            "Epoch 64/100\n",
            "8/8 [==============================] - 18s 2s/step - loss: 0.2339 - accuracy: 0.9055 - val_loss: 2.2532 - val_accuracy: 0.6250\n",
            "Epoch 65/100\n",
            "8/8 [==============================] - 18s 2s/step - loss: 0.2123 - accuracy: 0.9177 - val_loss: 2.4442 - val_accuracy: 0.6250\n",
            "Epoch 66/100\n",
            "8/8 [==============================] - 18s 2s/step - loss: 0.2095 - accuracy: 0.9188 - val_loss: 1.7468 - val_accuracy: 0.6836\n",
            "Epoch 67/100\n",
            "8/8 [==============================] - 18s 2s/step - loss: 0.2287 - accuracy: 0.9121 - val_loss: 2.0814 - val_accuracy: 0.6289\n",
            "Epoch 68/100\n",
            "8/8 [==============================] - 20s 3s/step - loss: 0.1740 - accuracy: 0.9414 - val_loss: 2.1521 - val_accuracy: 0.6562\n",
            "Epoch 69/100\n",
            "8/8 [==============================] - 18s 2s/step - loss: 0.2296 - accuracy: 0.9088 - val_loss: 2.1112 - val_accuracy: 0.6367\n",
            "Epoch 70/100\n",
            "8/8 [==============================] - 18s 2s/step - loss: 0.2036 - accuracy: 0.9210 - val_loss: 2.0800 - val_accuracy: 0.6680\n",
            "Epoch 71/100\n",
            "8/8 [==============================] - 18s 2s/step - loss: 0.1674 - accuracy: 0.9344 - val_loss: 2.1706 - val_accuracy: 0.6719\n",
            "Epoch 72/100\n",
            "8/8 [==============================] - 18s 2s/step - loss: 0.2131 - accuracy: 0.9066 - val_loss: 1.3955 - val_accuracy: 0.7227\n",
            "Epoch 73/100\n",
            "8/8 [==============================] - 20s 3s/step - loss: 0.1616 - accuracy: 0.9316 - val_loss: 2.1329 - val_accuracy: 0.6758\n",
            "Epoch 74/100\n",
            "8/8 [==============================] - 20s 3s/step - loss: 0.1881 - accuracy: 0.9189 - val_loss: 2.8766 - val_accuracy: 0.6094\n",
            "Epoch 75/100\n",
            "8/8 [==============================] - 18s 2s/step - loss: 0.1993 - accuracy: 0.9221 - val_loss: 1.7470 - val_accuracy: 0.6992\n",
            "Epoch 76/100\n",
            "8/8 [==============================] - 18s 2s/step - loss: 0.2269 - accuracy: 0.9021 - val_loss: 1.6479 - val_accuracy: 0.6875\n",
            "Epoch 77/100\n",
            "8/8 [==============================] - 20s 3s/step - loss: 0.1715 - accuracy: 0.9346 - val_loss: 1.9609 - val_accuracy: 0.6797\n",
            "Epoch 78/100\n",
            "8/8 [==============================] - 18s 2s/step - loss: 0.1795 - accuracy: 0.9232 - val_loss: 1.9523 - val_accuracy: 0.6875\n",
            "Epoch 79/100\n",
            "8/8 [==============================] - 18s 2s/step - loss: 0.1882 - accuracy: 0.9299 - val_loss: 2.0104 - val_accuracy: 0.6797\n",
            "Epoch 80/100\n",
            "8/8 [==============================] - 18s 2s/step - loss: 0.2387 - accuracy: 0.9043 - val_loss: 2.1868 - val_accuracy: 0.6484\n",
            "Epoch 81/100\n",
            "8/8 [==============================] - 18s 2s/step - loss: 0.1448 - accuracy: 0.9466 - val_loss: 2.5123 - val_accuracy: 0.6445\n",
            "Epoch 82/100\n",
            "8/8 [==============================] - 18s 2s/step - loss: 0.2141 - accuracy: 0.9166 - val_loss: 2.4059 - val_accuracy: 0.6484\n",
            "Epoch 83/100\n",
            "8/8 [==============================] - 18s 2s/step - loss: 0.1576 - accuracy: 0.9422 - val_loss: 2.8796 - val_accuracy: 0.6406\n",
            "Epoch 84/100\n",
            "8/8 [==============================] - 18s 2s/step - loss: 0.1508 - accuracy: 0.9410 - val_loss: 2.4579 - val_accuracy: 0.6445\n",
            "Epoch 85/100\n",
            "8/8 [==============================] - 21s 3s/step - loss: 0.1660 - accuracy: 0.9355 - val_loss: 2.4149 - val_accuracy: 0.6523\n",
            "Epoch 86/100\n",
            "8/8 [==============================] - 18s 2s/step - loss: 0.1522 - accuracy: 0.9399 - val_loss: 2.5655 - val_accuracy: 0.6328\n",
            "Epoch 87/100\n",
            "8/8 [==============================] - 19s 2s/step - loss: 0.1878 - accuracy: 0.9266 - val_loss: 2.2317 - val_accuracy: 0.6602\n",
            "Epoch 88/100\n",
            "8/8 [==============================] - 18s 2s/step - loss: 0.1261 - accuracy: 0.9544 - val_loss: 1.3495 - val_accuracy: 0.7617\n",
            "Epoch 89/100\n",
            "8/8 [==============================] - 18s 2s/step - loss: 0.2162 - accuracy: 0.9077 - val_loss: 2.3535 - val_accuracy: 0.6562\n",
            "Epoch 90/100\n",
            "8/8 [==============================] - 18s 2s/step - loss: 0.1374 - accuracy: 0.9544 - val_loss: 2.2837 - val_accuracy: 0.6719\n",
            "Epoch 91/100\n",
            "8/8 [==============================] - 18s 2s/step - loss: 0.1275 - accuracy: 0.9477 - val_loss: 1.9841 - val_accuracy: 0.6992\n",
            "Epoch 92/100\n",
            "8/8 [==============================] - 18s 2s/step - loss: 0.2820 - accuracy: 0.9155 - val_loss: 2.3626 - val_accuracy: 0.6562\n",
            "Epoch 93/100\n",
            "8/8 [==============================] - 18s 2s/step - loss: 0.1390 - accuracy: 0.9522 - val_loss: 2.4037 - val_accuracy: 0.6562\n",
            "Epoch 94/100\n",
            "8/8 [==============================] - 18s 2s/step - loss: 0.1182 - accuracy: 0.9577 - val_loss: 2.4954 - val_accuracy: 0.6641\n",
            "Epoch 95/100\n",
            "8/8 [==============================] - 21s 3s/step - loss: 0.1546 - accuracy: 0.9321 - val_loss: 3.3909 - val_accuracy: 0.5820\n",
            "Epoch 96/100\n",
            "8/8 [==============================] - 21s 3s/step - loss: 0.1402 - accuracy: 0.9443 - val_loss: 3.2940 - val_accuracy: 0.6328\n",
            "Epoch 97/100\n",
            "8/8 [==============================] - 18s 2s/step - loss: 0.1443 - accuracy: 0.9488 - val_loss: 2.3602 - val_accuracy: 0.6602\n",
            "Epoch 98/100\n",
            "8/8 [==============================] - 21s 3s/step - loss: 0.1228 - accuracy: 0.9555 - val_loss: 2.1360 - val_accuracy: 0.6914\n",
            "Epoch 99/100\n",
            "8/8 [==============================] - 18s 2s/step - loss: 0.1800 - accuracy: 0.9366 - val_loss: 4.0680 - val_accuracy: 0.5586\n",
            "Epoch 100/100\n",
            "8/8 [==============================] - 18s 2s/step - loss: 0.1790 - accuracy: 0.9310 - val_loss: 1.6847 - val_accuracy: 0.7266\n"
          ],
          "name": "stdout"
        }
      ]
    },
    {
      "cell_type": "markdown",
      "metadata": {
        "id": "gUaeE0Mp9bkH"
      },
      "source": [
        " # Check in Model Accuracy"
      ]
    },
    {
      "cell_type": "code",
      "metadata": {
        "id": "iJG43x5pXZm8",
        "outputId": "21be5ebf-94bd-4fe9-e1a9-f90ab3d53ecb",
        "colab": {
          "base_uri": "https://localhost:8080/",
          "height": 545
        }
      },
      "source": [
        "import matplotlib.pyplot as plt\n",
        "acc = history.history['accuracy']\n",
        "val_acc = history.history['val_accuracy']\n",
        "loss = history.history['loss']\n",
        "val_loss = history.history['val_loss']\n",
        "\n",
        "epochs = range(len(acc))\n",
        "\n",
        "plt.plot(epochs, acc, 'r', label='Training accuracy')\n",
        "plt.plot(epochs, val_acc, 'b', label='Validation accuracy')\n",
        "plt.title('Training and validation accuracy')\n",
        "\n",
        "plt.figure()\n",
        "\n",
        "plt.plot(epochs, loss, 'r', label='Training Loss')\n",
        "plt.plot(epochs, val_loss, 'b', label='Validation Loss')\n",
        "plt.title('Training and validation loss')\n",
        "plt.legend()\n",
        "\n",
        "plt.show()"
      ],
      "execution_count": null,
      "outputs": [
        {
          "output_type": "display_data",
          "data": {
            "image/png": "[encoded data removed]",
            "text/plain": [
              "<Figure size 432x288 with 1 Axes>"
            ]
          },
          "metadata": {
            "tags": [],
            "needs_background": "light"
          }
        },
        {
          "output_type": "display_data",
          "data": {
            "image/png": "[encoded data removed]",
            "text/plain": [
              "<Figure size 432x288 with 1 Axes>"
            ]
          },
          "metadata": {
            "tags": [],
            "needs_background": "light"
          }
        }
      ]
    }
  ]
}